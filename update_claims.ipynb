{
 "cells": [
  {
   "cell_type": "code",
   "execution_count": 1,
   "metadata": {},
   "outputs": [],
   "source": [
    "import joblib\n",
    "import datetime\n",
    "from pathlib import Path\n",
    "\n",
    "import pytoml\n",
    "import us"
   ]
  },
  {
   "cell_type": "code",
   "execution_count": 2,
   "metadata": {},
   "outputs": [],
   "source": [
    "home = str(Path.home())"
   ]
  },
  {
   "cell_type": "code",
   "execution_count": 3,
   "metadata": {},
   "outputs": [],
   "source": [
    "%run \"/home/gsinha/admin/db/dev/Python/projects/models/claims/common.py\""
   ]
  },
  {
   "cell_type": "code",
   "execution_count": 4,
   "metadata": {},
   "outputs": [],
   "source": [
    "START_DATE = datetime.date(1995, 1, 1)\n",
    "with open(home + \"/.config/gcm/gcm.toml\", \"rb\") as f:\n",
    "    config = pytoml.load(f)\n",
    "    FRED_API_KEY = config[\"api_keys\"][\"fred\"]"
   ]
  },
  {
   "cell_type": "code",
   "execution_count": 5,
   "metadata": {
    "lines_to_next_cell": 0
   },
   "outputs": [
    {
     "name": "stdout",
     "output_type": "stream",
     "text": [
      "CPU times: user 35.8 s, sys: 202 ms, total: 36 s\n",
      "Wall time: 1min 45s\n"
     ]
    }
   ],
   "source": [
    "%%time\n",
    "\n",
    "fred_fname = \"../data/fred_data\"\n",
    "states = [x.abbr for x in us.STATES] + [\"DC\", \"US\"]\n",
    "\n",
    "ic_df, fred_df, ic_date, w_52_pct_chg_df = get_labor_data(states)\n",
    "ic_df = ic_df.interpolate()\n",
    "\n",
    "with open(fred_fname + \".pkl\", \"wb\") as f:\n",
    "    joblib.dump(\n",
    "        {\"ic_df\": ic_df, \"fred_df\": fred_df, \"w_52_pct_chg_df\": w_52_pct_chg_df, \"ic_date\": ic_date}, f\n",
    "    )"
   ]
  },
  {
   "cell_type": "code",
   "execution_count": null,
   "metadata": {},
   "outputs": [],
   "source": []
  }
 ],
 "metadata": {
  "jupytext": {
   "encoding": "# -*- coding: utf-8 cspell:disable -*-",
   "formats": "ipynb,py:light"
  },
  "kernelspec": {
   "display_name": "dev",
   "language": "python",
   "name": "dev"
  },
  "language_info": {
   "codemirror_mode": {
    "name": "ipython",
    "version": 3
   },
   "file_extension": ".py",
   "mimetype": "text/x-python",
   "name": "python",
   "nbconvert_exporter": "python",
   "pygments_lexer": "ipython3",
   "version": "3.6.9"
  }
 },
 "nbformat": 4,
 "nbformat_minor": 4
}
