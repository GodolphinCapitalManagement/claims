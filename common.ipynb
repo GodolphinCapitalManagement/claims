{
 "cells": [
  {
   "cell_type": "code",
   "execution_count": null,
   "metadata": {},
   "outputs": [],
   "source": [
    "import datetime\n",
    "import pathlib"
   ]
  },
  {
   "cell_type": "code",
   "execution_count": null,
   "metadata": {},
   "outputs": [],
   "source": [
    "import pandas as pd\n",
    "import numpy as np\n",
    "import pytoml\n",
    "\n",
    "from fredapi import Fred"
   ]
  },
  {
   "cell_type": "code",
   "execution_count": null,
   "metadata": {},
   "outputs": [],
   "source": [
    "START_DATE = datetime.date(1995, 1, 1)\n",
    "CRISIS_START_DATE = datetime.date(2020, 3, 14)\n",
    "HOME_DIR = str(pathlib.Path.home())\n",
    "\n",
    "with open(HOME_DIR + \"/.config/gcm/gcm.toml\", \"rb\") as f:\n",
    "    config = pytoml.load(f)\n",
    "    FRED_API_KEY = config[\"api_keys\"][\"fred\"]"
   ]
  },
  {
   "cell_type": "code",
   "execution_count": null,
   "metadata": {
    "lines_to_next_cell": 0
   },
   "outputs": [],
   "source": [
    "def states_data(suffix, states, start_date, fred):\n",
    "    ''' gets data from FRED for a list of indices '''\n",
    "\n",
    "    \n",
    "    indices = [x + suffix if x != \"US\" else \"ICSA\" for x in states]\n",
    "    df = []\n",
    "    for v in indices:\n",
    "        x =  pd.Series(\n",
    "                fred.get_series(\n",
    "                    v, observation_start=start_date), name=v\n",
    "            )\n",
    "        df.append(x)\n",
    "\n",
    "    y_ts = pd.concat(df, axis=1)\n",
    "    y_ts.columns = states\n",
    "\n",
    "    return y_ts\n",
    "\n",
    "def get_labor_data(states, itd=True):\n",
    "    ''' get labor market data from STL '''\n",
    "    \n",
    "    fred = Fred(api_key=FRED_API_KEY)\n",
    "\n",
    "    ur_raw = states_data(\"UR\", states, START_DATE, fred)\n",
    "    ur = ur_raw.diff().iloc[-1, ]\n",
    "\n",
    "    ur_df = ur.to_frame(name=\"ur\").reset_index()\n",
    "    ur_df.rename(columns={\"index\": \"state\"}, inplace=True)\n",
    "    \n",
    "    ic_raw = states_data(\"ICLAIMS\", states, START_DATE, fred)\n",
    "    if  itd:\n",
    "        ic = ic_raw.loc[CRISIS_START_DATE:, :].sum(axis=0)\n",
    "    else:\n",
    "        ic = ic_raw.rolling(window=4).sum().iloc[-1, :]\n",
    "\n",
    "    ic_df = ic.to_frame(name=\"ic\").reset_index()\n",
    "    ic_df.rename(columns={\"index\": \"state\"}, inplace=True)\n",
    "    \n",
    "    all_df = pd.merge(ur_df, ic_df, on=\"state\")\n",
    "    \n",
    "    cc_raw = states_data(\"CCLAIMS\", states, START_DATE, fred)\n",
    "    cc_df = cc_raw.iloc[-1].to_frame(name=\"cc\").reset_index()\n",
    "    cc_df.rename(columns={\"index\": \"state\"}, inplace=True)\n",
    "    \n",
    "    all_df = pd.merge(all_df, cc_df, on=\"state\")\n",
    "    w_52_pct_chg_df = ic_raw.pct_change(periods=52)\n",
    "    \n",
    "    return ic_raw, all_df, ic_raw.index[-1].date(), w_52_pct_chg_df"
   ]
  },
  {
   "cell_type": "code",
   "execution_count": null,
   "metadata": {
    "lines_to_next_cell": 2
   },
   "outputs": [],
   "source": []
  }
 ],
 "metadata": {
  "jupytext": {
   "formats": "ipynb,py:light"
  },
  "kernelspec": {
   "display_name": "dev",
   "language": "python",
   "name": "dev"
  },
  "language_info": {
   "codemirror_mode": {
    "name": "ipython",
    "version": 3
   },
   "file_extension": ".py",
   "mimetype": "text/x-python",
   "name": "python",
   "nbconvert_exporter": "python",
   "pygments_lexer": "ipython3",
   "version": "3.6.9"
  }
 },
 "nbformat": 4,
 "nbformat_minor": 4
}
